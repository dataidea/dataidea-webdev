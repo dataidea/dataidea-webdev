{
 "cells": [
  {
   "cell_type": "markdown",
   "metadata": {},
   "source": [
    "## Miscellaneous Exercise [+ Solutions]"
   ]
  },
  {
   "cell_type": "markdown",
   "metadata": {},
   "source": [
    "1. **Reverse a String**: Write a function that takes a string as input and returns the reverse of\n",
    "that string."
   ]
  },
  {
   "cell_type": "code",
   "execution_count": null,
   "metadata": {},
   "outputs": [
    {
     "data": {
      "text/plain": [
       "'dlrow olleh'"
      ]
     },
     "execution_count": null,
     "metadata": {},
     "output_type": "execute_result"
    }
   ],
   "source": [
    "#Qn.1 reverse a string\n",
    "def reverseString (text):\n",
    "    return text[::-1]\n",
    "reverseString ('hello world')"
   ]
  },
  {
   "cell_type": "markdown",
   "metadata": {},
   "source": [
    "2. **Palindrome Checker**: Write a function that takes a string as input and returns True if it's a\n",
    "palindrome (reads the same forwards and backwards), False otherwise."
   ]
  },
  {
   "cell_type": "code",
   "execution_count": null,
   "metadata": {},
   "outputs": [
    {
     "data": {
      "text/plain": [
       "True"
      ]
     },
     "execution_count": null,
     "metadata": {},
     "output_type": "execute_result"
    }
   ],
   "source": [
    "#Qn.2 Palindrome Checker\n",
    "def isPalindrome (text):\n",
    "    return text == text[::-1]\n",
    "isPalindrome('madam')"
   ]
  },
  {
   "cell_type": "markdown",
   "metadata": {},
   "source": [
    "3. **Factorial Calculator**: Write a function that calculates the factorial of a given number. The\n",
    "factorial of a non-negative integer is the product of all positive integers less than or equal to the integer."
   ]
  },
  {
   "cell_type": "code",
   "execution_count": null,
   "metadata": {},
   "outputs": [
    {
     "name": "stdout",
     "output_type": "stream",
     "text": [
      "720\n"
     ]
    }
   ],
   "source": [
    "#Qn.3 Factorial Calculator\n",
    "def numberFactorial(number):\n",
    "    if number==0 or number==1:\n",
    "        print(1)\n",
    "    else:\n",
    "        factorial = 1\n",
    "        for value in range (1, number+1):\n",
    "            factorial *= value\n",
    "        print(factorial)\n",
    "numberFactorial(6)        "
   ]
  },
  {
   "cell_type": "markdown",
   "metadata": {},
   "source": [
    "4. **Fibonacci Sequence**: Write a function to generate the Fibonacci sequence up to a certain\n",
    "number of terms. The Fibonacci sequence is a series of numbers where each number is the\n",
    "sum of the two preceding ones, usually starting with 0 and 1."
   ]
  },
  {
   "cell_type": "code",
   "execution_count": null,
   "metadata": {},
   "outputs": [
    {
     "data": {
      "text/plain": [
       "[0, 1, 1, 2, 3, 5, 8, 13]"
      ]
     },
     "execution_count": null,
     "metadata": {},
     "output_type": "execute_result"
    }
   ],
   "source": [
    "#Qn.4 Fibonacci Sequence\n",
    "def fibonacciSequence (number):\n",
    "    sequence = [0,1]\n",
    "    while len (sequence)< number:\n",
    "        sequence.append(sequence[-1] + sequence[-2])\n",
    "    return sequence\n",
    "fibonacciSequence (8)    "
   ]
  },
  {
   "cell_type": "markdown",
   "metadata": {},
   "source": [
    "5. **Prime Number Checker**: Write a function that checks if a given number is prime."
   ]
  },
  {
   "cell_type": "code",
   "execution_count": null,
   "metadata": {},
   "outputs": [
    {
     "data": {
      "text/plain": [
       "False"
      ]
     },
     "execution_count": null,
     "metadata": {},
     "output_type": "execute_result"
    }
   ],
   "source": [
    "#Qn.5 Prime Number Checker\n",
    "def isPrimeNumber (number):\n",
    "    if number <= 1:\n",
    "        return False\n",
    "    for value in range(2,int(number**0.5)+1):\n",
    "        if number % value == 0:\n",
    "            return False\n",
    "    return True\n",
    "isPrimeNumber(4)      "
   ]
  },
  {
   "cell_type": "markdown",
   "metadata": {},
   "source": [
    "[ad]\n",
    "<script async src=\"https://pagead2.googlesyndication.com/pagead/js/adsbygoogle.js?client=ca-pub-8076040302380238\"\n",
    "     crossorigin=\"anonymous\"></script>\n",
    "<!-- inline-square -->\n",
    "<ins class=\"adsbygoogle\"\n",
    "     style=\"display:block\"\n",
    "     data-ad-client=\"ca-pub-8076040302380238\"\n",
    "     data-ad-slot=\"3564352555\"\n",
    "     data-ad-format=\"auto\"\n",
    "     data-full-width-responsive=\"true\"></ins>\n",
    "<script>\n",
    "     (adsbygoogle = window.adsbygoogle || []).push({});\n",
    "</script>\n"
   ]
  },
  {
   "cell_type": "markdown",
   "metadata": {},
   "source": [
    "6. **List Reversal**: Write a function that reverses a list."
   ]
  },
  {
   "cell_type": "code",
   "execution_count": null,
   "metadata": {},
   "outputs": [
    {
     "data": {
      "text/plain": [
       "[8, 6, 5, 3, 1]"
      ]
     },
     "execution_count": null,
     "metadata": {},
     "output_type": "execute_result"
    }
   ],
   "source": [
    "#Qn.6 List Reversal\n",
    "def reverseList(list_):\n",
    "    return list_[::-1]\n",
    "reverseList([1,3,5,6,8])"
   ]
  },
  {
   "cell_type": "markdown",
   "metadata": {},
   "source": [
    "7. **List Sorting**: Write a function that sorts a list of integers in ascending order without using\n",
    "Python's built-in sorting functions."
   ]
  },
  {
   "cell_type": "code",
   "execution_count": null,
   "metadata": {},
   "outputs": [
    {
     "data": {
      "text/plain": [
       "[1, 2, 3, 7, 9]"
      ]
     },
     "execution_count": null,
     "metadata": {},
     "output_type": "execute_result"
    }
   ],
   "source": [
    "#Qn.7 List Sorting\n",
    "def sortList(list_):\n",
    "    return sorted(list_)\n",
    "sortList([3,7,1,9,2])"
   ]
  },
  {
   "cell_type": "markdown",
   "metadata": {},
   "source": [
    "8. **Anagram Checker**: Write a function that takes two strings as input and returns True if they\n",
    "are anagrams (contain the same letters with the same frequency), False otherwise."
   ]
  },
  {
   "cell_type": "code",
   "execution_count": null,
   "metadata": {},
   "outputs": [
    {
     "data": {
      "text/plain": [
       "True"
      ]
     },
     "execution_count": null,
     "metadata": {},
     "output_type": "execute_result"
    }
   ],
   "source": [
    "#Qn.8 Anagram Checker\n",
    "def areAnagram(string1, string2):\n",
    "    return sorted(string1) == sorted(string2)\n",
    "areAnagram('listen','silent')"
   ]
  },
  {
   "cell_type": "markdown",
   "metadata": {},
   "source": [
    "9. **Count Words in a String**: Write a function that takes a string as input and returns the count\n",
    "of words in that string."
   ]
  },
  {
   "cell_type": "code",
   "execution_count": null,
   "metadata": {},
   "outputs": [
    {
     "data": {
      "text/plain": [
       "2"
      ]
     },
     "execution_count": null,
     "metadata": {},
     "output_type": "execute_result"
    }
   ],
   "source": [
    "#Qn.9 Count words in a String\n",
    "def countWords(string):\n",
    "    return len(string.split())\n",
    "countWords('hello world')"
   ]
  },
  {
   "cell_type": "markdown",
   "metadata": {},
   "source": [
    "10. **Unique Elements**: Write a function that takes a list and returns a new list with only the\n",
    "unique elements from the original list."
   ]
  },
  {
   "cell_type": "code",
   "execution_count": null,
   "metadata": {},
   "outputs": [
    {
     "data": {
      "text/plain": [
       "[1, 2, 3, 4, 5, 6, 7, 9]"
      ]
     },
     "execution_count": null,
     "metadata": {},
     "output_type": "execute_result"
    }
   ],
   "source": [
    "#Qn.10 Unique Elements\n",
    "def uniqueElements(list_):\n",
    "    return list(set(list_))\n",
    "uniqueElements([2,4,3,2,6,4,7,9,5,3,5,1,6])"
   ]
  },
  {
   "cell_type": "markdown",
   "metadata": {},
   "source": [
    "[ad]\n",
    "<script async src=\"https://pagead2.googlesyndication.com/pagead/js/adsbygoogle.js?client=ca-pub-8076040302380238\"\n",
    "     crossorigin=\"anonymous\"></script>\n",
    "<!-- inline-square -->\n",
    "<ins class=\"adsbygoogle\"\n",
    "     style=\"display:block\"\n",
    "     data-ad-client=\"ca-pub-8076040302380238\"\n",
    "     data-ad-slot=\"3564352555\"\n",
    "     data-ad-format=\"auto\"\n",
    "     data-full-width-responsive=\"true\"></ins>\n",
    "<script>\n",
    "     (adsbygoogle = window.adsbygoogle || []).push({});\n",
    "</script>\n"
   ]
  },
  {
   "cell_type": "markdown",
   "metadata": {},
   "source": [
    "**Want to Become a Python Expert?**\n",
    "\n",
    "If you're committed to mastering Python for Data Science and Web Development roles, I strongly recommend enrolling in my Complete Python 3 Course. Avoid wasting time on outdated, disjointed tutorials.\n",
    "\n",
    "My Complete Python 3 Course has everything you need in one place.\n",
    "\n",
    "- About 10 hours of HD video\n",
    "- Unlimited access - watch it as many times as you want\n",
    "- Self-paced learning - take your time if you prefer\n",
    "- Watch it online or download and watch it offline\n",
    "- One-on-one training with me 2-4 times a week\n",
    "\n",
    "Sincerely,\n",
    "\n",
    "Juma Shafara\n",
    "\n",
    "Data Scientist, Instructor\n",
    "\n",
    "DATAIDEA"
   ]
  },
  {
   "cell_type": "markdown",
   "metadata": {},
   "source": [
    "[ad]\n",
    "<script async src=\"https://pagead2.googlesyndication.com/pagead/js/adsbygoogle.js?client=ca-pub-8076040302380238\"\n",
    "     crossorigin=\"anonymous\"></script>\n",
    "<!-- inline-square -->\n",
    "<ins class=\"adsbygoogle\"\n",
    "     style=\"display:block\"\n",
    "     data-ad-client=\"ca-pub-8076040302380238\"\n",
    "     data-ad-slot=\"3564352555\"\n",
    "     data-ad-format=\"auto\"\n",
    "     data-full-width-responsive=\"true\"></ins>\n",
    "<script>\n",
    "     (adsbygoogle = window.adsbygoogle || []).push({});\n",
    "</script>\n"
   ]
  }
 ],
 "metadata": {
  "kernelspec": {
   "display_name": "python3",
   "language": "python",
   "name": "python3"
  }
 },
 "nbformat": 4,
 "nbformat_minor": 2
}
