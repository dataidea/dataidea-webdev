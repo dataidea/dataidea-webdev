{
 "cells": [
  {
   "cell_type": "markdown",
   "metadata": {},
   "source": [
    "## Welcome to DATAIDEA"
   ]
  },
  {
   "cell_type": "markdown",
   "metadata": {},
   "source": [
    "Hello there 🤗 and welcome to our new resources site! We have redeveloped our website to use Jupyter notebooks, which is the tool we primarily use for teaching. This allows you to access updated learning materials faster and more efficiently.\n",
    "\n",
    "![Photo by DATAIDEA](./assets/banner2.png)"
   ]
  },
  {
   "cell_type": "markdown",
   "metadata": {},
   "source": [
    "### Programming for Web Development\n",
    "\n",
    "**Programming for Web Development** is a comprehensive subject designed to cover the various programming components essential for web development. By taking this course, you’ll learn programming techniques to build dynamic and responsive websites and applications using HTML, CSS, JavaScript, and Python with Django.\n",
    "\n",
    "This subject is divided into specific courses as outlined below. The duration mentioned is an average based on our previous students' experiences, but it can vary depending on individual learning pace:\n",
    "\n",
    "- **HTML5 and CSS3** ( JavaScript) (1 month)\n",
    "- **JavaScript** (1 month)\n",
    "- **Python** (1 month)\n",
    "- **Django** (1 months)\n",
    "- **Database Management with SQL and Python** (optional) (1 month)\n",
    "\n",
    "You can choose to take the entire subject or select specific courses that are of strong interest or most applicable to your field. However, if you’re a complete beginner, we recommend enrolling in the entire program for a comprehensive learning experience.\n",
    "\n",
    "### Course Details\n",
    "\n",
    "- **Duration:** Varies based on the course units chosen\n",
    "- **Sessions:** Four times a week (one-on-one)\n",
    "- **Timing:** Evenings and/or weekends\n",
    "- **Location:** Online or at UMF House, Sir Apollo Kagwa Road\n",
    "\n",
    "If you’re serious about learning programming and preparing for roles in Web Development and Data Science, we highly encourage you to enroll in our courses. Avoid wasting time on disconnected, outdated tutorials. We offer a structured and up-to-date curriculum to help you kickstart your career.\n",
    "\n",
    "### Contact Us\n",
    "\n",
    "Feel free to reach out to us for more information or to enroll:\n",
    "\n",
    "- **Email:** dataideaorg@gmail.com\n",
    "- **Phone:** +256701520768 / +256771754118\n",
    "- **Website:** [www.dataidea.org](http://www.dataidea.org)\n",
    "\n",
    "We look forward to helping you achieve your learning goals!"
   ]
  }
 ],
 "metadata": {
  "kernelspec": {
   "display_name": "python3",
   "language": "python",
   "name": "python3"
  }
 },
 "nbformat": 4,
 "nbformat_minor": 4
}
