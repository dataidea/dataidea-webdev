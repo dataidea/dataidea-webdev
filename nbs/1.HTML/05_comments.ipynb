{
 "cells": [
  {
   "cell_type": "markdown",
   "metadata": {},
   "source": [
    "# HTML Comments"
   ]
  },
  {
   "cell_type": "markdown",
   "metadata": {},
   "source": [
    "![Photo by DATAIDEA](../assets/banner3.png)"
   ]
  },
  {
   "cell_type": "markdown",
   "metadata": {},
   "source": [
    "## Comments\n",
    "HTML comments are text, phrases or sentences inside an HTML file.\n",
    "\n",
    "They are only shown in codes and not rendered by a browser.\n",
    "\n",
    "### Why use HTML comments?\n",
    "HTML comments help both beginners and experienced web developers to easily organize their codes.\n",
    "\n",
    "They act like sticky notes in HTML files\n",
    "\n",
    "### How to write HTML comments\n",
    "An HTML comment starts with `<!--` and ends with `-->`. It looks like this:\n",
    "\n",
    "```html\n",
    "<!-- comments go here -->\n",
    "```\n",
    "\n",
    "### Example\n",
    "<script async src=\"//jsfiddle.net/dataidea/yfje0v27/3/embed/html,result/\"></script>\n",
    "\n",
    "On the example given above, you have learned that you make a single-line and multi-line of HTML comments.\n",
    "\n",
    "And if you have noticed we have also put comments beside a start tag and end tag.\n",
    "\n",
    "That is for us to easily recognize where a specific element starts and ends."
   ]
  },
  {
   "cell_type": "markdown",
   "metadata": {},
   "source": [
    "<div class=\"p-3\">\n",
    "<p class=pb-1>\n",
    "Don't miss out on any updates and developments! Subscribe to the DATAIDEA Newsletter it's easy and safe.\n",
    "</p>\n",
    "<iframe src=\"https://embeds.beehiiv.com/5fc7c425-9c7e-4e08-a514-ad6c22beee74?slim=true\" data-test-id=\"beehiiv-embed\" height=\"52\" frameborder=\"0\" scrolling=\"no\" style=\"margin: 0; border-radius: 0px !important; background-color: transparent; width: 100%;\" ></iframe>\n",
    "</div>"
   ]
  }
 ],
 "metadata": {
  "language_info": {
   "name": "python"
  }
 },
 "nbformat": 4,
 "nbformat_minor": 2
}
