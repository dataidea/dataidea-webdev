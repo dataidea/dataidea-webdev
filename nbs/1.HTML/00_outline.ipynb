{
 "cells": [
  {
   "cell_type": "markdown",
   "metadata": {},
   "source": [
    "## HTML Course Outline"
   ]
  },
  {
   "cell_type": "markdown",
   "metadata": {},
   "source": [
    "### Basics\n",
    "\n",
    "- Introduction\n",
    "- Editors\n",
    "- Elements\n",
    "- Attributes\n",
    "- Comments\n",
    "- Styles\n",
    "- Colors\n",
    "- Responsive\n",
    "- Centered\n",
    "- Basic Example\n",
    "- Headings\n",
    "- Paragraphs\n",
    "- Links\n",
    "- Line Break\n",
    "- Horizontal Rule\n",
    "- Text Formatting\n",
    "- Block-Level Elements\n",
    "- Sections\n",
    "- Images\n",
    "- Tables\n",
    "- Lists\n",
    "- Description Lists"
   ]
  },
  {
   "cell_type": "markdown",
   "metadata": {},
   "source": [
    "### Forms\n",
    "- JavaScript\n",
    "- Forms\n",
    "- Form Labels\n",
    "- Input Types\n",
    "- `textarea`\n",
    "- Dropdown List\n",
    "- Form Elements Attributes\n",
    "- Buttons"
   ]
  },
  {
   "cell_type": "markdown",
   "metadata": {},
   "source": [
    "### Advanced\n",
    "\n",
    "- Editable Content\n",
    "- Meta\n",
    "- Blockquote\n",
    "- `nbsp`\n",
    "- Subscript Text\n",
    "- `pre` Element\n",
    "- Figures\n",
    "- Character Entities\n",
    "- Audios\n",
    "- Videos\n",
    "- Iframe\n",
    "- YouTube Videos\n",
    "- File Paths\n"
   ]
  }
 ],
 "metadata": {
  "language_info": {
   "name": "python"
  }
 },
 "nbformat": 4,
 "nbformat_minor": 2
}
