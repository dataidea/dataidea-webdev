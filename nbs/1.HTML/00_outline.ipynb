{
 "cells": [
  {
   "cell_type": "markdown",
   "metadata": {},
   "source": [
    "![](../assets/banner3.png)"
   ]
  },
  {
   "cell_type": "markdown",
   "metadata": {},
   "source": [
    "## HTML Course Outline"
   ]
  },
  {
   "cell_type": "markdown",
   "metadata": {},
   "source": [
    "### Basics\n",
    "\n",
    "- Introduction\n",
    "- Editors\n",
    "- Elements\n",
    "- Attributes\n",
    "- Comments\n",
    "- Styles\n",
    "- Colors\n",
    "- Responsive\n",
    "- Centered\n",
    "- Basic Example\n",
    "- Headings\n",
    "- Paragraphs\n",
    "- Links\n",
    "- Line Break\n",
    "- Horizontal Rule\n",
    "- Text Formatting\n",
    "- Block-Level Elements\n",
    "- Sections\n",
    "- Images\n",
    "- Tables\n",
    "- Lists\n",
    "- Description Lists"
   ]
  },
  {
   "cell_type": "markdown",
   "metadata": {},
   "source": [
    "### Forms\n",
    "- JavaScript\n",
    "- Forms\n",
    "- Form Labels\n",
    "- Input Types\n",
    "- `textarea`\n",
    "- Dropdown List\n",
    "- Form Elements Attributes\n",
    "- Buttons"
   ]
  },
  {
   "cell_type": "markdown",
   "metadata": {},
   "source": [
    "### Advanced\n",
    "\n",
    "- Editable Content\n",
    "- Meta\n",
    "- Blockquote\n",
    "- `nbsp`\n",
    "- Subscript Text\n",
    "- `pre` Element\n",
    "- Figures\n",
    "- Character Entities\n",
    "- Audios\n",
    "- Videos\n",
    "- Iframe\n",
    "- YouTube Videos\n",
    "- File Paths\n"
   ]
  },
  {
   "cell_type": "markdown",
   "metadata": {},
   "source": [
    "<div class=\"p-3\">\n",
    "<p class=pb-1>\n",
    "Don't miss out on any updates and developments! Subscribe to the DATAIDEA Newsletter it's easy and safe.\n",
    "</p>\n",
    "<iframe src=\"https://embeds.beehiiv.com/5fc7c425-9c7e-4e08-a514-ad6c22beee74?slim=true\" data-test-id=\"beehiiv-embed\" height=\"52\" frameborder=\"0\" scrolling=\"no\" style=\"margin: 0; border-radius: 0px !important; background-color: transparent; width: 100%;\" ></iframe>\n",
    "</div>"
   ]
  }
 ],
 "metadata": {
  "language_info": {
   "name": "python"
  }
 },
 "nbformat": 4,
 "nbformat_minor": 2
}
