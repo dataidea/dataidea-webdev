{
 "cells": [
  {
   "cell_type": "markdown",
   "metadata": {},
   "source": [
    "## HTML Elements"
   ]
  },
  {
   "cell_type": "markdown",
   "metadata": {},
   "source": [
    "![Photo by DATAIDEA](../assets/banner3.png)"
   ]
  },
  {
   "cell_type": "markdown",
   "metadata": {},
   "source": [
    "In the first lesson, we have studied about tags and things like start tag and end tag.\n",
    "\n",
    "An HTML element is usually composed of a \"start tag\", \"element content\" and \"end tag\"\n",
    "\n",
    "Example:\n",
    "<script async src=\"//jsfiddle.net/dataidea/70ek34sn/3/embed/html,result/\"></script>\n",
    "\n",
    "This example HTML Element above is composed of the following:\n",
    "\n",
    "- start tag: `<p>`\n",
    "- element content:\n",
    "`This is an element content`\n",
    "- end tag: `</p>`\n",
    "\n",
    "### Nested HTML Elements\n",
    "\n",
    "There are some cases that an HTML element can contain one or more HTML elements.\n",
    "\n",
    "For you to better understand it look at the example below.\n",
    "<script async src=\"//jsfiddle.net/dataidea/n2ug40bp/embed/html,result/\"></script>\n",
    "\n",
    "The example nested HTML Elements above are composed of the following:\n",
    "\n",
    "- Start tag. `<p>`\n",
    "- Start tag. `<i>`\n",
    "- Element Content. `Italicized text`\n",
    "- End tag `</i>`\n",
    "- End tag `</p>`\n",
    "\n",
    "On the example above, there are two start tags and two end tags\n",
    "\n",
    "The second tag ie. `<i>` italicizes the text within.\n",
    "\n",
    "### Empty Elements\n",
    "Empty Elements are elements that do not have an element content and an end tag.\n",
    "\n",
    "A list of commonly used Empty Elements:\n",
    "\n",
    "- `<meta />`\n",
    "- `<link />`\n",
    "- `<img />`\n",
    "- `<br />`\n",
    "- `<hr />`\n",
    "- `<input />`\n",
    "\n",
    "The best practice in HTML Empty Elements is to always put a forward slash `/` sign before the greater than sign.\n",
    "\n",
    "In this way, they are closed at their start tags."
   ]
  }
 ],
 "metadata": {
  "language_info": {
   "name": "python"
  }
 },
 "nbformat": 4,
 "nbformat_minor": 2
}
