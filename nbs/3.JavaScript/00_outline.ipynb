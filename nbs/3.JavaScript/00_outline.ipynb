{
 "cells": [
  {
   "cell_type": "markdown",
   "metadata": {},
   "source": [
    "![](../assets/banner3.png)"
   ]
  },
  {
   "cell_type": "markdown",
   "metadata": {},
   "source": [
    "## JavaScript Course Outline"
   ]
  },
  {
   "cell_type": "markdown",
   "metadata": {},
   "source": [
    "### Basics\n",
    "\n",
    "- Overview\n",
    "- Introduction\n",
    "- Writing Code\n",
    "- Displaying Output\n",
    "- Statements\n",
    "- Syntax\n",
    "- Comments\n",
    "- Variables\n",
    "- Functions\n",
    "- Events"
   ]
  },
  {
   "cell_type": "markdown",
   "metadata": {},
   "source": [
    "### Data Types\n",
    "\n",
    "- String\n",
    "- Number\n",
    "- Boolean\n",
    "- Object\n",
    "- Array\n",
    "- Undefined\n",
    "- Null\n",
    "- Dynamic"
   ]
  },
  {
   "cell_type": "markdown",
   "metadata": {},
   "source": [
    "### Operators\n",
    "\n",
    "- Operators\n",
    "- Arithmetic\n",
    "- Assignment\n",
    "- Comparison\n",
    "- Logical and Conditional\n",
    "- Bitwise Operators"
   ]
  },
  {
   "cell_type": "markdown",
   "metadata": {},
   "source": [
    "### Flow Control\n",
    "\n",
    "- The `if...else` statement\n",
    "- The switch statement\n",
    "- For Loop\n",
    "- While Loop\n",
    "- Break and Continue\n",
    "- Timeout and Interval\n",
    "- Exception Handling"
   ]
  },
  {
   "cell_type": "markdown",
   "metadata": {},
   "source": [
    "### Advanced\n",
    "\n",
    "- Variable Scope\n",
    "- Variable Hoisting\n",
    "- Strict Mode\n",
    "- `let`\n",
    "- `const`\n",
    "- Dates\n",
    "- Date Formats\n",
    "- Date Get Methods\n",
    "- Date Set Methods\n",
    "- `this` Keyword\n",
    "- Arrow Function\n",
    "- Classes\n",
    "- JSON\n",
    "- Forms\n",
    "- Form Inputs\n",
    "- Reserved Keywords\n",
    "- Function Invocation\n",
    "- Regular Expressions"
   ]
  },
  {
   "cell_type": "markdown",
   "metadata": {},
   "source": [
    "### HTML DOM\n",
    "\n",
    "- Introduction\n",
    "- Selectors\n",
    "- Nodes\n",
    "- Navigation\n",
    "- HTML\n",
    "- CSS or Styling\n",
    "- Effects\n",
    "- Events"
   ]
  },
  {
   "cell_type": "markdown",
   "metadata": {},
   "source": [
    "### BOM\n",
    "\n",
    "- Window\n",
    "- Screen\n",
    "- Location\n",
    "- History\n",
    "- Navigator\n",
    "- Pop-up Boxes\n",
    "- Cookies"
   ]
  },
  {
   "cell_type": "markdown",
   "metadata": {},
   "source": [
    "### JAX\n",
    "\n",
    "- Introduction\n",
    "- `XMLHttpsRequest`\n",
    "- Send Request\n",
    "- Recieve Response"
   ]
  }
 ],
 "metadata": {
  "language_info": {
   "name": "python"
  }
 },
 "nbformat": 4,
 "nbformat_minor": 2
}
