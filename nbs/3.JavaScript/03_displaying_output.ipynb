{
 "cells": [
  {
   "cell_type": "markdown",
   "metadata": {},
   "source": [
    "![](../assets/banner3.png)"
   ]
  },
  {
   "cell_type": "markdown",
   "metadata": {},
   "source": [
    "## Displaying Output"
   ]
  },
  {
   "cell_type": "markdown",
   "metadata": {},
   "source": [
    "Displaying output or generating output in JavaScript is very important expecially when learning the language\n",
    "\n",
    "For example, if you want to see if your JavaScript statements or code blocks are correct, you can output data to check\n",
    "\n",
    "In JavaScript, there are 4 ways of displaying output:"
   ]
  },
  {
   "cell_type": "markdown",
   "metadata": {
    "vscode": {
     "languageId": "javascript"
    }
   },
   "source": [
    "### Writing to HTML Elements\n",
    "\n",
    "By using the `innerHTML` property, we can change the content or text of the selected element.\n",
    "\n",
    "We can use the `document.getElementById()` function to select an element\n",
    "\n",
    "<iframe width=\"100%\" height=\"300\" src=\"//jsfiddle.net/dataidea/6dqtxvsm/10/embedded/js,html,result/\" allowfullscreen=\"allowfullscreen\" allowpaymentrequest frameborder=\"0\"></iframe>"
   ]
  }
 ],
 "metadata": {
  "kernelspec": {
   "display_name": "dataidea",
   "language": "python",
   "name": "python3"
  },
  "language_info": {
   "codemirror_mode": {
    "name": "ipython",
    "version": 3
   },
   "file_extension": ".py",
   "mimetype": "text/x-python",
   "name": "python",
   "nbconvert_exporter": "python",
   "pygments_lexer": "ipython3",
   "version": "3.10.12"
  }
 },
 "nbformat": 4,
 "nbformat_minor": 2
}
