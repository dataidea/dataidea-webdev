{
 "cells": [
  {
   "cell_type": "markdown",
   "metadata": {},
   "source": [
    "![](../assets/banner3.png)"
   ]
  },
  {
   "cell_type": "markdown",
   "metadata": {},
   "source": [
    "## Overview\n",
    "\n",
    "This course will teach you the basic and advanced concepts of JavaScript\n",
    "\n",
    "### JavaScript Prerequisites\n",
    "What do you need before learning JavaScript?\n",
    "\n",
    "In order to learn JavaScript, you need to have:\n",
    "\n",
    "1. Computer Literacy\n",
    "2. Basic understanding of HTML\n",
    "3. Basic understanding of CSS\n",
    "\n",
    "<div class=\"alert text-white rounded\" style=\"background: #3a6e68;\"><h4>Note!</h4><p>JavaScript is easy to learn! Although you may struggle at first, you can reread the lessons and retry coding the given examples</p></div>"
   ]
  },
  {
   "cell_type": "markdown",
   "metadata": {},
   "source": [
    "<div class=\"p-3\">\n",
    "<p class=pb-1>\n",
    "Don't miss out on any updates and developments! Subscribe to the DATAIDEA Newsletter it's easy and safe.\n",
    "</p>\n",
    "<iframe src=\"https://embeds.beehiiv.com/5fc7c425-9c7e-4e08-a514-ad6c22beee74?slim=true\" data-test-id=\"beehiiv-embed\" height=\"52\" frameborder=\"0\" scrolling=\"no\" style=\"margin: 0; border-radius: 0px !important; background-color: transparent; width: 100%;\" ></iframe>\n",
    "</div>"
   ]
  }
 ],
 "metadata": {
  "language_info": {
   "name": "python"
  }
 },
 "nbformat": 4,
 "nbformat_minor": 2
}
