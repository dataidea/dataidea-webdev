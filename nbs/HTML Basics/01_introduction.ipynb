{
 "cells": [
  {
   "cell_type": "markdown",
   "metadata": {},
   "source": [
    "![Photo by DATAIDEA](../assets/banner3.png)"
   ]
  },
  {
   "cell_type": "markdown",
   "metadata": {},
   "source": [
    "## What is HTML?\n",
    "HTML, or HyperText Markup Language, is the standard language used to create and design web pages. It provides the basic structure and layout for content on the internet, allowing you to organize and format text, images, links, and other elements within a webpage.\n",
    "\n",
    "Let's break down what HTML is and why it's important with an example:\n",
    "\n",
    "Consider you want to create a simple webpage that displays information about your favorite hobby, gardening. You want the webpage to have a title, some text describing gardening, and maybe some images of plants. Here's how you might use HTML to create this webpage:\n",
    "\n",
    "```html\n",
    "<!DOCTYPE html>\n",
    "<html>\n",
    "<head>\n",
    "    <title>My Gardening Page</title>\n",
    "</head>\n",
    "<body>\n",
    "    <h1>Welcome to My Gardening Page</h1>\n",
    "    <p>Gardening is a wonderful hobby that allows you to connect with nature...</p>\n",
    "    <h2>Some Tips for Beginner Gardeners</h2>\n",
    "    <ul>\n",
    "        <li>Start with easy-to-grow plants like herbs or tomatoes.</li>\n",
    "        <li>Make sure your plants get enough sunlight and water.</li>\n",
    "        <li>Don't forget to weed your garden regularly to keep it healthy.</li>\n",
    "    </ul>\n",
    "    <img src=\"flower.jpg\" alt=\"Beautiful Flower\">\n",
    "</body>\n",
    "</html>\n",
    "```\n",
    "\n",
    "Let's break down what's happening here:\n",
    "\n",
    "- `<!DOCTYPE html>`: This declaration tells the web browser that the document is written in HTML5, the latest version of HTML.\n",
    "- `<html>`: This tag represents the root of the HTML document.\n",
    "- `<head>`: This section contains meta-information about the HTML document, such as the title, character encoding, etc.\n",
    "- `<title>`: This tag sets the title of the webpage, which appears in the browser's title bar or tab.\n",
    "- `<body>`: This is where the main content of the webpage goes.\n",
    "- `<h1>`, `<h2>`: These are header tags used to create headings of different levels.\n",
    "- `<p>`: This tag is used to define a paragraph of text.\n",
    "- `<ul>`, `<li>`: These tags are used to create an unordered list and list items, respectively.\n",
    "- `<img>`: This tag is used to insert an image into the webpage. The `src` attribute specifies the path to the image file, and the `alt` attribute provides alternative text for accessibility purposes.\n",
    "\n",
    "Learning HTML is essential for anyone interested in web development or content creation on the internet because:\n",
    "\n",
    "1. **Foundation of Web Development**: HTML is the backbone of web development. It's the first language you'll need to learn when starting to build web pages.\n",
    "\n",
    "2. **Universal Language**: HTML is supported by all web browsers and is the standard language for creating web pages, making it a fundamental skill for anyone working on the web.\n",
    "\n",
    "3. **Understanding Web Structure**: Learning HTML teaches you how web pages are structured and how different elements interact with each other, which is crucial for effective web design and development.\n",
    "\n",
    "4. **Gateway to Other Technologies**: HTML often goes hand-in-hand with other web technologies like CSS (Cascading Style Sheets) for styling and JavaScript for interactivity. Understanding HTML is the first step toward mastering these other technologies.\n",
    "\n",
    "In summary, HTML is the building block of the web, and learning it is the first step toward becoming proficient in web development and design."
   ]
  }
 ],
 "metadata": {
  "language_info": {
   "name": "python"
  }
 },
 "nbformat": 4,
 "nbformat_minor": 2
}
