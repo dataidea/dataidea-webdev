{
 "cells": [
  {
   "cell_type": "markdown",
   "metadata": {},
   "source": [
    "![](../assets/banner3.png)"
   ]
  },
  {
   "cell_type": "markdown",
   "metadata": {},
   "source": [
    "## CSS Course Outline"
   ]
  },
  {
   "cell_type": "markdown",
   "metadata": {},
   "source": [
    "### Basics\n",
    "\n",
    "- Introduction\n",
    "- Syntax and Selectors\n",
    "- Inserting\n",
    "- Colors\n",
    "- Backgrounds\n",
    "- Borders\n",
    "- Margins\n",
    "- Padding\n",
    "- Width and Height\n",
    "- Box Models\n",
    "- Text\n",
    "- Fonts\n",
    "- Icons\n",
    "- Links\n",
    "- Tables\n",
    "- Outlines\n",
    "- Buttons\n",
    "- Buttons\n",
    "- Images\n",
    "- Opacity"
   ]
  },
  {
   "cell_type": "markdown",
   "metadata": {},
   "source": [
    "### CSS Layout\n",
    "\n",
    "- The `display` Property\n",
    "- The `width` and `max-width` Properties\n",
    "- Positioning\n",
    "- Overflow\n",
    "- `float` and `clear` Properties\n",
    "- `inline-block`\n",
    "- Horizontal and Vertical Align"
   ]
  },
  {
   "cell_type": "markdown",
   "metadata": {},
   "source": [
    "### Selectors\n",
    "\n",
    "- Combinators\n",
    "- Pseudoclasses\n",
    "- Pseudoelements\n",
    "- Attribute Selectors"
   ]
  },
  {
   "cell_type": "markdown",
   "metadata": {},
   "source": [
    "### Data Types\n",
    "\n",
    "- Integer\n",
    "- Number\n",
    "- Length\n",
    "- Percentage\n",
    "- String\n",
    "- Color\n",
    "- Url\n",
    "- Angle"
   ]
  }
 ],
 "metadata": {
  "language_info": {
   "name": "python"
  }
 },
 "nbformat": 4,
 "nbformat_minor": 2
}
