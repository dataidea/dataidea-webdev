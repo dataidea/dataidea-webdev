{
 "cells": [
  {
   "cell_type": "markdown",
   "metadata": {},
   "source": [
    "![](../assets/banner3.png)"
   ]
  },
  {
   "cell_type": "markdown",
   "metadata": {},
   "source": [
    "## CSS Colors\n",
    "\n",
    "CSS provides various ways to specify colors, including named colors, hexadecimal (hex) colors, RGB colors, RGBA colors, HSL colors, and HSLA colors. Each method has its advantages and use cases.\n",
    "\n",
    "### Named Colors\n",
    "\n",
    "CSS defines a set of named colors that you can use directly in your stylesheets. Some common named colors include \"red\", \"blue\", \"green\", \"yellow\", \"black\", \"white\", etc.\n",
    "\n",
    "Example:\n",
    "```css\n",
    "color: red;\n",
    "```\n",
    "\n",
    "### Hexadecimal (Hex) Colors\n",
    "\n",
    "Hexadecimal notation represents colors using a combination of six hexadecimal digits, each specifying the intensity of red, green, and blue (RGB) components. Hex colors start with a hash symbol `#`, followed by six characters (0-9, A-F).\n",
    "\n",
    "Example:\n",
    "```css\n",
    "color: #ff0000; /* Red */\n",
    "background-color: #00ff00; /* Green */\n",
    "```\n",
    "\n",
    "### RGB Colors\n",
    "\n",
    "RGB notation defines colors using a combination of red, green, and blue color values. Each color value is specified as an integer between 0 and 255.\n",
    "\n",
    "Example:\n",
    "```css\n",
    "color: rgb(255, 0, 0); /* Red */\n",
    "background-color: rgb(0, 255, 0); /* Green */\n",
    "```\n",
    "\n",
    "### RGBA Colors\n",
    "\n",
    "RGBA notation extends RGB by adding an alpha channel, which represents the opacity of the color. The alpha value is a number between 0 (fully transparent) and 1 (fully opaque).\n",
    "\n",
    "Example:\n",
    "```css\n",
    "color: rgba(255, 0, 0, 0.5); /* Red with 50% opacity */\n",
    "background-color: rgba(0, 255, 0, 0.75); /* Green with 75% opacity */\n",
    "```\n",
    "\n",
    "### HSL Colors\n",
    "\n",
    "HSL (Hue, Saturation, Lightness) notation defines colors using three parameters: hue, saturation, and lightness. Hue represents the color itself (0-360), saturation represents the intensity of the color (0-100%), and lightness represents the brightness (0-100%).\n",
    "\n",
    "Example:\n",
    "```css\n",
    "color: hsl(0, 100%, 50%); /* Red */\n",
    "background-color: hsl(120, 100%, 50%); /* Green */\n",
    "```\n",
    "\n",
    "### HSLA Colors\n",
    "\n",
    "HSLA notation extends HSL by adding an alpha channel for opacity.\n",
    "\n",
    "Example:\n",
    "```css\n",
    "color: hsla(0, 100%, 50%, 0.5); /* Red with 50% opacity */\n",
    "background-color: hsla(120, 100%, 50%, 0.75); /* Green with 75% opacity */\n",
    "    ```\n",
    "\n",
    "Each color notation has its advantages and use cases. Experiment with different color formats to find the one that best suits your design needs."
   ]
  }
 ],
 "metadata": {
  "language_info": {
   "name": "python"
  }
 },
 "nbformat": 4,
 "nbformat_minor": 2
}
